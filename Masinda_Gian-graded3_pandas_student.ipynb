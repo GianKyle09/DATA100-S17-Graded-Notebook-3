{
 "cells": [
  {
   "cell_type": "markdown",
   "id": "a1de7cf8",
   "metadata": {},
   "source": [
    "*Author/s:*\n",
    "**Gian Kyle Go Masinda**\n",
    "\n",
    "Course code and section:  DATA100 - S17\n",
    "\n",
    "Student ID: 12186228\n",
    "\n",
    "College: GCOE"
   ]
  },
  {
   "cell_type": "markdown",
   "id": "174e376c",
   "metadata": {
    "id": "174e376c"
   },
   "source": [
    "# Zomato Exercise"
   ]
  },
  {
   "cell_type": "markdown",
   "id": "2d84fdf3",
   "metadata": {
    "id": "2d84fdf3"
   },
   "source": [
    "Zomato is a restaurant aggregator website. The platform provides information, menus and user-reviews of restaurants as well as food delivery options from partner restaurants in select cities. You have been provided 3 datasets:\n",
    "\n",
    "- zomato.csv contains restaurant information like average_cost_for_two, cuisines\n",
    "- location.csv contains location of the restaurants like address, city, locality & etc\n",
    "- ratings.csv contains aggregate rating for each restaurant\n",
    "\n",
    "The different files are connected using the `id` columns which can be found in the different files. The id column is a unique identifier to represent a restaurant. You can use this to **merge** the different files."
   ]
  },
  {
   "cell_type": "code",
   "execution_count": 60,
   "id": "5337de5f",
   "metadata": {
    "id": "5337de5f"
   },
   "outputs": [],
   "source": [
    "import pandas as pd\n",
    "import numpy as np"
   ]
  },
  {
   "cell_type": "markdown",
   "id": "77605fbc",
   "metadata": {
    "id": "77605fbc"
   },
   "source": [
    "1. Merge the zomato, location & ratings file into a single dataframe and store it to the `merged_df` variable **(3pts)**"
   ]
  },
  {
   "cell_type": "code",
   "execution_count": 61,
   "id": "ddbd0bb1",
   "metadata": {
    "id": "ddbd0bb1"
   },
   "outputs": [],
   "source": [
    "# Load the data\n",
    "zomato_df = pd.read_csv('zomato.csv')\n",
    "location_df = pd.read_csv('location.csv')\n",
    "ratings_df = pd.read_csv('ratings.csv')\n",
    "\n",
    "# Merge the data\n",
    "merged_df = pd.merge(zomato_df, location_df, on='id')\n",
    "merged_df = pd.merge(merged_df, ratings_df, on='id')"
   ]
  },
  {
   "cell_type": "code",
   "execution_count": 62,
   "id": "b2a86a44",
   "metadata": {
    "id": "b2a86a44"
   },
   "outputs": [],
   "source": [
    "assert (6830, 35)==merged_df.shape\n",
    "\n",
    "cols = ['id', 'address', 'city', 'city_id', 'country_id', 'latitude',\n",
    "       'locality', 'locality_verbose', 'longitude', 'zipcode',\n",
    "       'aggregate_rating', 'rating_color', 'rating_text', 'votes',\n",
    "       'average_cost_for_two', 'book_url', 'cuisines', 'currency', 'deeplink',\n",
    "       'events_url', 'featured_image', 'has_online_delivery',\n",
    "       'has_table_booking', 'include_bogo_offers', 'is_book_form_web_view',\n",
    "       'is_delivering_now', 'is_table_reservation_supported',\n",
    "       'is_zomato_book_res', 'menu_url', 'mezzo_provider', 'name',\n",
    "       'photos_url', 'price_range', 'thumb', 'url']\n",
    "\n",
    "assert sorted(merged_df.columns) == sorted(cols)"
   ]
  },
  {
   "cell_type": "markdown",
   "id": "02223abe",
   "metadata": {
    "id": "02223abe"
   },
   "source": [
    "2. Create a function that returns the average aggregate rating for each city. Expected returned value is a Series datatype which contains name of city as index and average aggregate rating as value. **(2pts)**"
   ]
  },
  {
   "cell_type": "code",
   "execution_count": 63,
   "id": "bd7d8f34",
   "metadata": {
    "id": "bd7d8f34"
   },
   "outputs": [],
   "source": [
    "def exercise_2(merged_df):\n",
    "    # Group by city and calculate the mean of aggregate rating\n",
    "    avg_rating_series = merged_df.groupby('city')['aggregate_rating'].mean()\n",
    "    return avg_rating_series\n",
    "\n",
    "    raise NotImplementedError"
   ]
  },
  {
   "cell_type": "code",
   "execution_count": 64,
   "id": "10e5b4c1",
   "metadata": {
    "id": "10e5b4c1"
   },
   "outputs": [],
   "source": [
    "res_series = exercise_2(merged_df)\n",
    "assert True == np.isclose(3.302075, res_series[res_series.index == 'Pasay City'],\n",
    "                          rtol=1e-05, atol=1e-08, equal_nan=False)[0]\n",
    "assert True == np.isclose(1.890741, res_series[res_series.index == 'Valenzuela City'],\n",
    "                          rtol=1e-05, atol=1e-08, equal_nan=False)[0]\n",
    "assert True == np.isclose(1.558333, res_series[res_series.index == 'Malabon City'],\n",
    "                          rtol=1e-05, atol=1e-08, equal_nan=False)[0]"
   ]
  },
  {
   "cell_type": "markdown",
   "id": "5db591ac",
   "metadata": {
    "id": "5db591ac"
   },
   "source": [
    "3. Using the apply function of pandas convert the rating_text to a numeric equivalent. You are to introduce a new column in merged_df called `rating_numeric` which is based on the value from rating_text: **(3pts)**\n",
    "\n",
    "Excellent = 5 <br>\n",
    "Very Good = 4 <br>\n",
    "Good = 3 <br>\n",
    "Average = 2 <br>\n",
    "Poor = 1 <br>\n",
    "Not rated = 0 <br>"
   ]
  },
  {
   "cell_type": "code",
   "execution_count": 65,
   "id": "41293771",
   "metadata": {
    "id": "41293771"
   },
   "outputs": [],
   "source": [
    "def convert_rating_text_to_numeric(rating_text):\n",
    "    # Define a dictionary to map rating_text to numberic values\n",
    "    rating_dict = {\n",
    "        'Not rated': 0,\n",
    "        'Poor': 1,\n",
    "        'Average': 2,\n",
    "        'Good': 3,\n",
    "        'Very Good': 4,\n",
    "        'Excellent': 5\n",
    "    }\n",
    "    # Return the numeric value corresponding to the rating_text\n",
    "    return rating_dict.get(rating_text, 0)\n",
    "\n",
    "# Apply the function to the rating_text column and create a new column called rating_numeric\n",
    "merged_df['rating_numeric'] = merged_df['rating_text'].apply(convert_rating_text_to_numeric)"
   ]
  },
  {
   "cell_type": "code",
   "execution_count": 66,
   "id": "c62df922",
   "metadata": {
    "id": "c62df922"
   },
   "outputs": [],
   "source": [
    "assert 868 == merged_df[merged_df.rating_numeric == 0].shape[0]\n",
    "assert True == ('rating_numeric' in merged_df.columns)"
   ]
  },
  {
   "cell_type": "markdown",
   "id": "97ec4197",
   "metadata": {
    "id": "97ec4197"
   },
   "source": [
    "4. Create a function which filters the merged dataframe to only contain rows coming in from a specific city. Expected returned value is a dataframe **(2pts)**"
   ]
  },
  {
   "cell_type": "code",
   "execution_count": 67,
   "id": "9773b18e",
   "metadata": {
    "id": "9773b18e"
   },
   "outputs": [],
   "source": [
    "def exercise_4(merged_df, city):\n",
    "    # Filter the DataFrame to only include the rows where the city is equal to the input city\n",
    "    filtered_df = merged_df.loc[merged_df['city'] == city]\n",
    "    return filtered_df\n",
    "\n",
    "    raise NotImplementedError"
   ]
  },
  {
   "cell_type": "code",
   "execution_count": 68,
   "id": "1ca29a81",
   "metadata": {
    "id": "1ca29a81"
   },
   "outputs": [],
   "source": [
    "\n",
    "assert 'Makati City' == exercise_4(merged_df, 'Makati City').city.unique()[0]\n",
    "assert (976, 36) == exercise_4(merged_df, 'Makati City').shape\n",
    "\n",
    "assert 'Mandaluyong City' == exercise_4(merged_df, 'Mandaluyong City').city.unique()[0]\n",
    "assert (443, 36) == exercise_4(merged_df, 'Mandaluyong City').shape\n",
    "\n",
    "assert (0, 36) == exercise_4(merged_df, 'Quezon  City').shape"
   ]
  },
  {
   "cell_type": "markdown",
   "id": "ca7bf3c1",
   "metadata": {
    "id": "ca7bf3c1"
   },
   "source": [
    "5. Create a function to filter the dataframe to only contain certain columns passed in the function. Expected returned value is a dataframe **(1pt)**"
   ]
  },
  {
   "cell_type": "code",
   "execution_count": 69,
   "id": "59787577",
   "metadata": {
    "id": "59787577"
   },
   "outputs": [],
   "source": [
    "def exercise_5(merged_df, cols_to_filter):\n",
    "    # Filter the DataFrame to only include the columns you want to keep\n",
    "    filtered_df = merged_df[cols_to_filter]\n",
    "    return filtered_df\n",
    "\n",
    "    raise NotImplementedError"
   ]
  },
  {
   "cell_type": "code",
   "execution_count": 70,
   "id": "da27c054",
   "metadata": {
    "id": "da27c054"
   },
   "outputs": [],
   "source": [
    "cols = ['name', 'cuisines', 'city', 'aggregate_rating']\n",
    "assert sorted(cols) == sorted(exercise_5(merged_df, cols).columns)\n",
    "assert (6830, 4) == exercise_5(merged_df, cols).shape\n",
    "\n",
    "cols = ['average_cost_for_two', 'book_url', 'cuisines', 'currency', 'deeplink',\n",
    "       'events_url', 'featured_image', 'has_online_delivery',\n",
    "       'has_table_booking', 'include_bogo_offers', 'is_book_form_web_view']\n",
    "assert sorted(cols) == sorted(exercise_5(merged_df, cols).columns)\n",
    "assert (6830, 11) == exercise_5(merged_df, cols).shape\n"
   ]
  },
  {
   "cell_type": "markdown",
   "id": "d69c7e2e",
   "metadata": {
    "id": "d69c7e2e"
   },
   "source": [
    "6.  What is the most common restaurant name in the dataset? **(2pts)** Write down your answer and show code used to come up with the answer."
   ]
  },
  {
   "cell_type": "code",
   "execution_count": 71,
   "id": "cf9cdab1",
   "metadata": {
    "id": "cf9cdab1"
   },
   "outputs": [
    {
     "name": "stdout",
     "output_type": "stream",
     "text": [
      "The most common restaurant name is Starbucks and appears 99 times.\n"
     ]
    }
   ],
   "source": [
    "# Find the most common restaurant name\n",
    "most_common_name = merged_df['name'].value_counts().idxmax()\n",
    "number_of_most_common_name = merged_df['name'].value_counts().max()\n",
    "\n",
    "#Display the result\n",
    "print(f\"The most common restaurant name is {most_common_name} and appears {number_of_most_common_name} times.\")"
   ]
  },
  {
   "cell_type": "markdown",
   "id": "7675b4b1",
   "metadata": {
    "id": "7675b4b1"
   },
   "source": [
    "7. Which restaurant has the most expensive average cost for two? **(2pts)** Write down your answer and show code used to come up with the answer."
   ]
  },
  {
   "cell_type": "code",
   "execution_count": 72,
   "id": "b447b440",
   "metadata": {
    "id": "b447b440"
   },
   "outputs": [
    {
     "name": "stdout",
     "output_type": "stream",
     "text": [
      "The most expensive restaurant is The Tasting Room with an average cost for two of ₱10000.\n"
     ]
    }
   ],
   "source": [
    "# Find the restaurant with the most expensive average cost for two\n",
    "most_expensive_restaurant = merged_df.loc[merged_df['average_cost_for_two'].idxmax()]\n",
    "\n",
    "# Extract the restaurant name and average cost for two from the most expensive restaurant\n",
    "most_expensive_restaurant_name = most_expensive_restaurant['name']\n",
    "most_expensive_average_cost_for_two = most_expensive_restaurant['average_cost_for_two']\n",
    "\n",
    "# Display the restaurant name and average cost for two\n",
    "print(f\"The most expensive restaurant is {most_expensive_restaurant_name} with an average cost for two of ₱{most_expensive_average_cost_for_two}.\")"
   ]
  },
  {
   "cell_type": "markdown",
   "id": "af873fb7",
   "metadata": {
    "id": "af873fb7"
   },
   "source": [
    "8. How many restaurants do not have a zipcode? **(1pt)** Write down your answer and show code used to come up with the answer."
   ]
  },
  {
   "cell_type": "code",
   "execution_count": 73,
   "id": "43f1234a",
   "metadata": {
    "id": "43f1234a"
   },
   "outputs": [
    {
     "name": "stdout",
     "output_type": "stream",
     "text": [
      "There are 6713 restaurants without a zip code.\n"
     ]
    }
   ],
   "source": [
    "# Count the number of restaurants without a zip code\n",
    "num_restaurants_without_zipcode = merged_df['zipcode'].isna().sum()\n",
    "\n",
    "# Display the number of restaurants without a zip code\n",
    "print(f'There are {num_restaurants_without_zipcode} restaurants without a zip code.')"
   ]
  },
  {
   "cell_type": "markdown",
   "id": "9347ac03",
   "metadata": {
    "id": "9347ac03"
   },
   "source": [
    "9. How many restaurants in the dataset allow online delivery? **(1pt)** Write down your answer and show code used to come up with the answer."
   ]
  },
  {
   "cell_type": "code",
   "execution_count": 74,
   "id": "24b62212",
   "metadata": {
    "id": "24b62212"
   },
   "outputs": [
    {
     "name": "stdout",
     "output_type": "stream",
     "text": [
      "The number of restaurants that allow online delivery is: 0\n"
     ]
    }
   ],
   "source": [
    "# Count the number of restaurants that allow online delivery\n",
    "num_restaurants_with_online_delivery = merged_df['has_online_delivery'].sum()\n",
    "\n",
    "# Display the result\n",
    "print(f\"The number of restaurants that allow online delivery is: {num_restaurants_with_online_delivery}\")\n"
   ]
  },
  {
   "cell_type": "markdown",
   "id": "7f2c7aa3",
   "metadata": {
    "id": "7f2c7aa3"
   },
   "source": [
    "10. Which locatlity has more expensive food? Poblacion or Salcedo Village? **(3pts)** Write down your answer and show code used to come up with the answer.\n"
   ]
  },
  {
   "cell_type": "code",
   "execution_count": 75,
   "id": "8fb7ce16",
   "metadata": {
    "id": "8fb7ce16"
   },
   "outputs": [
    {
     "name": "stdout",
     "output_type": "stream",
     "text": [
      "The locality with the more expensive food is Salcedo Village.\n"
     ]
    }
   ],
   "source": [
    "# Find out the locality with the most expensive food\n",
    "filtered_df = merged_df[merged_df['locality'].isin(['Poblacion', 'Salcedo Village'])]\n",
    "\n",
    "# Calculate the average cost for two for each locality\n",
    "average_cost_by_locality = filtered_df.groupby('locality')['average_cost_for_two'].mean()\n",
    "\n",
    "# Determine which locality has the higher average cost\n",
    "locality_with_highest_average_cost = average_cost_by_locality.idxmax()\n",
    "\n",
    "# Print the locality with the more expensive food\n",
    "print(f\"The locality with the more expensive food is {locality_with_highest_average_cost}.\")"
   ]
  },
  {
   "cell_type": "markdown",
   "id": "039c82ea",
   "metadata": {},
   "source": [
    "# References\n",
    "1. (n.d.). Pandas Documentation — Pandas 2.2.3 Documentation. https://pandas.pydata.org/docs/index.html\n",
    "2. (n.d.). NumPy Documentation. https://numpy.org/doc/"
   ]
  }
 ],
 "metadata": {
  "colab": {
   "provenance": []
  },
  "kernelspec": {
   "display_name": "Python 3 (ipykernel)",
   "language": "python",
   "name": "python3"
  },
  "language_info": {
   "codemirror_mode": {
    "name": "ipython",
    "version": 3
   },
   "file_extension": ".py",
   "mimetype": "text/x-python",
   "name": "python",
   "nbconvert_exporter": "python",
   "pygments_lexer": "ipython3",
   "version": "3.12.2"
  }
 },
 "nbformat": 4,
 "nbformat_minor": 5
}
